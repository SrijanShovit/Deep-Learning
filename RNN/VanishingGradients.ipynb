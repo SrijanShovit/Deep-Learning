{
 "cells": [
  {
   "cell_type": "markdown",
   "metadata": {},
   "source": [
    "### Vanishing Gradients"
   ]
  },
  {
   "cell_type": "markdown",
   "metadata": {},
   "source": [
    "As no of hidden layers grow,gradient becomes very small(product of small nos is even smaller)\n",
    "So weights hardly change; this will hamper the  learning process"
   ]
  },
  {
   "cell_type": "markdown",
   "metadata": {},
   "source": [
    "### Exploding Gradients"
   ]
  },
  {
   "cell_type": "markdown",
   "metadata": {},
   "source": [
    "When individual derivatives are large ,the final derivative also becomes huge\n",
    "and weights would change drastically "
   ]
  },
  {
   "cell_type": "markdown",
   "metadata": {},
   "source": [
    "So the words at later stage in a sentence don't remember words in beginning;short term memory type (due to vanishing gradient being prominent)"
   ]
  }
 ],
 "metadata": {
  "language_info": {
   "name": "python"
  },
  "orig_nbformat": 4
 },
 "nbformat": 4,
 "nbformat_minor": 2
}
